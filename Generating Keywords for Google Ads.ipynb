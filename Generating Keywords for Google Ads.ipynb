{
 "cells": [
  {
   "cell_type": "markdown",
   "id": "9873a3cc-718e-40a3-ae2e-41cb140d8c92",
   "metadata": {},
   "source": [
    "# Creating a prototype set of keywords for search campaigns for their sofas section. "
   ]
  },
  {
   "cell_type": "code",
   "execution_count": 9,
   "id": "99c44f34-8e6b-4c81-96b9-b55bf24ef4d7",
   "metadata": {
    "tags": []
   },
   "outputs": [
    {
     "name": "stdout",
     "output_type": "stream",
     "text": [
      "['buy', 'price', 'discount', 'promotion', 'promo', 'shop']\n"
     ]
    }
   ],
   "source": [
    "# List of words to pair with products\n",
    "words = ['buy', 'price', 'discount', 'promotion', 'promo', 'shop']\n",
    "\n",
    "# Printing list of words\n",
    "print(words)"
   ]
  },
  {
   "cell_type": "code",
   "execution_count": 11,
   "id": "3ec25923-9b0d-4d75-b03b-e4d83485d97e",
   "metadata": {},
   "outputs": [
    {
     "name": "stdout",
     "output_type": "stream",
     "text": [
      "[['sofas', 'sofas buy'],\n",
      " ['sofas', 'buy sofas'],\n",
      " ['sofas', 'sofas price'],\n",
      " ['sofas', 'price sofas'],\n",
      " ['sofas', 'sofas discount'],\n",
      " ['sofas', 'discount sofas'],\n",
      " ['sofas', 'sofas promotion'],\n",
      " ['sofas', 'promotion sofas'],\n",
      " ['sofas', 'sofas promo'],\n",
      " ['sofas', 'promo sofas'],\n",
      " ['sofas', 'sofas shop'],\n",
      " ['sofas', 'shop sofas'],\n",
      " ['convertible sofas', 'convertible sofas buy'],\n",
      " ['convertible sofas', 'buy convertible sofas'],\n",
      " ['convertible sofas', 'convertible sofas price'],\n",
      " ['convertible sofas', 'price convertible sofas'],\n",
      " ['convertible sofas', 'convertible sofas discount'],\n",
      " ['convertible sofas', 'discount convertible sofas'],\n",
      " ['convertible sofas', 'convertible sofas promotion'],\n",
      " ['convertible sofas', 'promotion convertible sofas'],\n",
      " ['convertible sofas', 'convertible sofas promo'],\n",
      " ['convertible sofas', 'promo convertible sofas'],\n",
      " ['convertible sofas', 'convertible sofas shop'],\n",
      " ['convertible sofas', 'shop convertible sofas'],\n",
      " ['love seats', 'love seats buy'],\n",
      " ['love seats', 'buy love seats'],\n",
      " ['love seats', 'love seats price'],\n",
      " ['love seats', 'price love seats'],\n",
      " ['love seats', 'love seats discount'],\n",
      " ['love seats', 'discount love seats'],\n",
      " ['love seats', 'love seats promotion'],\n",
      " ['love seats', 'promotion love seats'],\n",
      " ['love seats', 'love seats promo'],\n",
      " ['love seats', 'promo love seats'],\n",
      " ['love seats', 'love seats shop'],\n",
      " ['love seats', 'shop love seats'],\n",
      " ['recliners', 'recliners buy'],\n",
      " ['recliners', 'buy recliners'],\n",
      " ['recliners', 'recliners price'],\n",
      " ['recliners', 'price recliners'],\n",
      " ['recliners', 'recliners discount'],\n",
      " ['recliners', 'discount recliners'],\n",
      " ['recliners', 'recliners promotion'],\n",
      " ['recliners', 'promotion recliners'],\n",
      " ['recliners', 'recliners promo'],\n",
      " ['recliners', 'promo recliners'],\n",
      " ['recliners', 'recliners shop'],\n",
      " ['recliners', 'shop recliners'],\n",
      " ['sofa beds', 'sofa beds buy'],\n",
      " ['sofa beds', 'buy sofa beds'],\n",
      " ['sofa beds', 'sofa beds price'],\n",
      " ['sofa beds', 'price sofa beds'],\n",
      " ['sofa beds', 'sofa beds discount'],\n",
      " ['sofa beds', 'discount sofa beds'],\n",
      " ['sofa beds', 'sofa beds promotion'],\n",
      " ['sofa beds', 'promotion sofa beds'],\n",
      " ['sofa beds', 'sofa beds promo'],\n",
      " ['sofa beds', 'promo sofa beds'],\n",
      " ['sofa beds', 'sofa beds shop'],\n",
      " ['sofa beds', 'shop sofa beds']]\n"
     ]
    }
   ],
   "source": [
    "products = ['sofas', 'convertible sofas', 'love seats', 'recliners', 'sofa beds']\n",
    "\n",
    "# Creating an empty list\n",
    "keywords_list = []\n",
    "\n",
    "# Looping through products\n",
    "for product in products:\n",
    "    # Looping through words\n",
    "    for word in words:\n",
    "        # Appending combinations\n",
    "        keywords_list.append([product, product + ' ' + word])\n",
    "        keywords_list.append([product, word + ' ' + product])\n",
    "        \n",
    "# Inspecting keyword list\n",
    "from pprint import pprint\n",
    "pprint(keywords_list)"
   ]
  },
  {
   "cell_type": "code",
   "execution_count": 12,
   "id": "270cd60f-70b5-4422-aec8-cdbaf562b111",
   "metadata": {},
   "outputs": [
    {
     "name": "stdout",
     "output_type": "stream",
     "text": [
      "                    0                            1\n",
      "0               sofas                    sofas buy\n",
      "1               sofas                    buy sofas\n",
      "2               sofas                  sofas price\n",
      "3               sofas                  price sofas\n",
      "4               sofas               sofas discount\n",
      "5               sofas               discount sofas\n",
      "6               sofas              sofas promotion\n",
      "7               sofas              promotion sofas\n",
      "8               sofas                  sofas promo\n",
      "9               sofas                  promo sofas\n",
      "10              sofas                   sofas shop\n",
      "11              sofas                   shop sofas\n",
      "12  convertible sofas        convertible sofas buy\n",
      "13  convertible sofas        buy convertible sofas\n",
      "14  convertible sofas      convertible sofas price\n",
      "15  convertible sofas      price convertible sofas\n",
      "16  convertible sofas   convertible sofas discount\n",
      "17  convertible sofas   discount convertible sofas\n",
      "18  convertible sofas  convertible sofas promotion\n",
      "19  convertible sofas  promotion convertible sofas\n",
      "20  convertible sofas      convertible sofas promo\n",
      "21  convertible sofas      promo convertible sofas\n",
      "22  convertible sofas       convertible sofas shop\n",
      "23  convertible sofas       shop convertible sofas\n",
      "24         love seats               love seats buy\n",
      "25         love seats               buy love seats\n",
      "26         love seats             love seats price\n",
      "27         love seats             price love seats\n",
      "28         love seats          love seats discount\n",
      "29         love seats          discount love seats\n",
      "30         love seats         love seats promotion\n",
      "31         love seats         promotion love seats\n",
      "32         love seats             love seats promo\n",
      "33         love seats             promo love seats\n",
      "34         love seats              love seats shop\n",
      "35         love seats              shop love seats\n",
      "36          recliners                recliners buy\n",
      "37          recliners                buy recliners\n",
      "38          recliners              recliners price\n",
      "39          recliners              price recliners\n",
      "40          recliners           recliners discount\n",
      "41          recliners           discount recliners\n",
      "42          recliners          recliners promotion\n",
      "43          recliners          promotion recliners\n",
      "44          recliners              recliners promo\n",
      "45          recliners              promo recliners\n",
      "46          recliners               recliners shop\n",
      "47          recliners               shop recliners\n",
      "48          sofa beds                sofa beds buy\n",
      "49          sofa beds                buy sofa beds\n",
      "50          sofa beds              sofa beds price\n",
      "51          sofa beds              price sofa beds\n",
      "52          sofa beds           sofa beds discount\n",
      "53          sofa beds           discount sofa beds\n",
      "54          sofa beds          sofa beds promotion\n",
      "55          sofa beds          promotion sofa beds\n",
      "56          sofa beds              sofa beds promo\n",
      "57          sofa beds              promo sofa beds\n",
      "58          sofa beds               sofa beds shop\n",
      "59          sofa beds               shop sofa beds\n"
     ]
    }
   ],
   "source": [
    "# Loading pandas library\n",
    "import pandas as pd\n",
    "\n",
    "# Creating a DataFrame from list\n",
    "keywords_df = pd.DataFrame.from_records(keywords_list)\n",
    "\n",
    "# Printing the keywords DataFrame to explore it\n",
    "print(keywords_df)"
   ]
  },
  {
   "cell_type": "code",
   "execution_count": 13,
   "id": "5d8d9af1-e5cd-4799-88c9-fd86cfdcd444",
   "metadata": {},
   "outputs": [],
   "source": [
    "# Renaming the columns of the DataFrame\n",
    "keywords_df = keywords_df.rename(columns={0: 'Ad Group', 1: 'Keyword'})"
   ]
  },
  {
   "cell_type": "code",
   "execution_count": 14,
   "id": "1bb55513-5114-426e-bab6-74a528378967",
   "metadata": {},
   "outputs": [],
   "source": [
    "# Adding a campaign column\n",
    "keywords_df['Campaign'] = 'SEM_Sofas'"
   ]
  },
  {
   "cell_type": "code",
   "execution_count": 15,
   "id": "d9d5bf7c-287d-4d47-8503-1871e0cc5326",
   "metadata": {},
   "outputs": [],
   "source": [
    "# Adding a criterion type column\n",
    "keywords_df['Criterion Type'] = 'Exact'"
   ]
  },
  {
   "cell_type": "code",
   "execution_count": 16,
   "id": "519439bd-1d6c-401a-b370-b238b777419b",
   "metadata": {},
   "outputs": [],
   "source": [
    "# Making a copy of the keywords DataFrame\n",
    "keywords_phrase = keywords_df.copy()\n",
    "\n",
    "# Changing criterion type match to phrase\n",
    "keywords_phrase['Criterion Type'] = 'Phrase'\n",
    "\n",
    "# Appending the DataFrames\n",
    "keywords_df_final = pd.concat([keywords_df, keywords_phrase], ignore_index=True)"
   ]
  },
  {
   "cell_type": "code",
   "execution_count": 17,
   "id": "28924649-47ad-4e5e-bccd-0cf7198738e8",
   "metadata": {},
   "outputs": [
    {
     "name": "stdout",
     "output_type": "stream",
     "text": [
      "Ad Group           Criterion Type\n",
      "convertible sofas  Exact             12\n",
      "                   Phrase            12\n",
      "love seats         Exact             12\n",
      "                   Phrase            12\n",
      "recliners          Exact             12\n",
      "                   Phrase            12\n",
      "sofa beds          Exact             12\n",
      "                   Phrase            12\n",
      "sofas              Exact             12\n",
      "                   Phrase            12\n",
      "Name: Keyword, dtype: int64\n"
     ]
    }
   ],
   "source": [
    "# Saving the final keywords to a CSV file\n",
    "keywords_df_final.to_csv('keywords.csv', index=False)\n",
    "\n",
    "# Viewing a summary of our campaign work\n",
    "summary = keywords_df_final.groupby(['Ad Group', 'Criterion Type'])['Keyword'].count()\n",
    "print(summary)"
   ]
  },
  {
   "cell_type": "code",
   "execution_count": null,
   "id": "e666117e-e312-4170-86f4-79ddd63b7b84",
   "metadata": {},
   "outputs": [],
   "source": []
  }
 ],
 "metadata": {
  "kernelspec": {
   "display_name": "Python 3 (ipykernel)",
   "language": "python",
   "name": "python3"
  },
  "language_info": {
   "codemirror_mode": {
    "name": "ipython",
    "version": 3
   },
   "file_extension": ".py",
   "mimetype": "text/x-python",
   "name": "python",
   "nbconvert_exporter": "python",
   "pygments_lexer": "ipython3",
   "version": "3.11.5"
  }
 },
 "nbformat": 4,
 "nbformat_minor": 5
}
